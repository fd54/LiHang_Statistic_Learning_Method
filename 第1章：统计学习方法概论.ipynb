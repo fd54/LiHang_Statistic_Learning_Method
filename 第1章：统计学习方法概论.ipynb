{
 "cells": [
  {
   "cell_type": "markdown",
   "metadata": {},
   "source": [
    "## 1.1 统计学习\n",
    "\n",
    "以计算机及网络为平台，以数据为研究对象，对数据进行预测和分析。\n",
    "\n",
    "统计学习方法包括监督学习，非监督学习，半监督学习和强化学习。监督学习的过程：从给定的、有限的、用于学习的训练数据集合出发，假设数据是独立同分布产生的；并且假设要学习的模型属于某个函数的集合，称为假设空间；应用某个评价准则，从假设空间选取一个最优的模型，使他对已知训练数据及未知测试数据在给定的评价标准下有最优的预测；最优模型的选取由算法实现。称为三要素：模型、策略和算法."
   ]
  },
  {
   "cell_type": "markdown",
   "metadata": {},
   "source": [
    "## 1.2 监督学习\n",
    "\n",
    "输入空间、特征空间和输出空间"
   ]
  },
  {
   "cell_type": "markdown",
   "metadata": {},
   "source": [
    "监督学习分为学习和预测两个过程"
   ]
  },
  {
   "cell_type": "markdown",
   "metadata": {},
   "source": [
    "## 1.3 统计学习三要素\n",
    "\n",
    "模型包括概率模型和非概率模型\n",
    "\n",
    "策略包括损失函数（0-1损失函数，平方损失函数，对数损失函数等），损失函数在概率意义下的期望称为风险函数或期望损失。\n",
    "\n",
    "学习的目标就是选择期望损失最小的模型，但是问题在于联合分布P（X,Y）是未知的，这样监督学习 就成为了一个病态问题。\n",
    "\n",
    "解决的方法是采用经验损失函数，即模型只关于样本的损失函数。\n",
    "\n",
    "在实际生活中，样本的数量通常不够，由此引申出监督学习的两个基本策略：经验风险最小化和结构风险最小化。\n",
    "\n",
    "当样本容量足够大时，通常采用经验风险最小化，而且具有较好的效果。极大似然估计就是一个例子。当模型是条件概率分布，损失函数是对数损失函数时，经验风险最小化就等价于极大似然估计。\n",
    "\n",
    "但是当样本容量很小时，经验风险最小化学习效果通常不会太好，容易产生过拟合的现象。结构风险最小化就是为了防止过拟合而提出的策略，其等价于正则化，是在经验损失函数后加上正则化项，或者称为惩罚项\n",
    "\n",
    "算法归结为最小化风险函数的最优化问题，分为解析解和数值解。"
   ]
  },
  {
   "cell_type": "markdown",
   "metadata": {},
   "source": [
    "## 1.4 模型评估与模型选择"
   ]
  },
  {
   "cell_type": "markdown",
   "metadata": {},
   "source": [
    "模型误差分为训练误差和测试误差"
   ]
  },
  {
   "cell_type": "markdown",
   "metadata": {},
   "source": [
    "## 1.5 正则化与交叉验证"
   ]
  },
  {
   "cell_type": "markdown",
   "metadata": {},
   "source": [
    "模型选择的典型方法是正则化。正则化就是结构风险最小化的实现\n",
    "\n",
    "模型选择的另一种常用方法是交叉验证。如果给定的样本数据充足，进行模型选择的一种简单方法是将数据集随机的分成三部分，训练集、验证集和测试集。\n",
    "测试集用于训练模型，验证集用于模型的选择，测试用于最终的学习方法评估。\n",
    "\n",
    "但在实际应用过程中，数据是不充足的，此时，为了选择好的模型，可以采用交叉验证的方法，交叉验证的基本思想是重复利用数据"
   ]
  },
  {
   "cell_type": "markdown",
   "metadata": {},
   "source": [
    "交叉验证又分为以下几种\n",
    "简单交叉验证、S折交叉验证和留一交叉验证"
   ]
  },
  {
   "cell_type": "markdown",
   "metadata": {},
   "source": [
    "## 1.6 泛化误差"
   ]
  },
  {
   "cell_type": "markdown",
   "metadata": {},
   "source": [
    "模型对未知数据的预测能力"
   ]
  },
  {
   "cell_type": "markdown",
   "metadata": {},
   "source": [
    "## 1.7 生成模型和判别模型 "
   ]
  },
  {
   "cell_type": "markdown",
   "metadata": {},
   "source": [
    "监督学习方法分为生成方法和判别方法\n",
    "\n",
    "生成方法学习联合概率分布，然后求出条件概率：朴素贝叶斯和隐马尔可夫模型\n",
    "\n",
    "判别方法由数据直接学习决策函数f（X）或条件概率分布作为预测的模型，包括：k近邻、感知机、决策树等"
   ]
  },
  {
   "cell_type": "markdown",
   "metadata": {},
   "source": [
    "## 1.8 分类问题"
   ]
  },
  {
   "cell_type": "markdown",
   "metadata": {},
   "source": [
    "对于二分类问题，常用的评价指标为精确率和召回率\n",
    "\n",
    "TP——将正类预测为正类\n",
    "\n",
    "FP——将负类预测为正类\n",
    "\n",
    "TN——将负类预测为负类\n",
    "\n",
    "FN——将正类预测为负类\n",
    "\n",
    "精确率 P = TP/(TP+FP)\n",
    "\n",
    "召回率 R = TP/(TP+FN)\n",
    "\n",
    "此外还有F1值，是精确率和召回率的调和均值。"
   ]
  },
  {
   "cell_type": "markdown",
   "metadata": {},
   "source": [
    "## 1.9 标注问题"
   ]
  },
  {
   "cell_type": "markdown",
   "metadata": {},
   "source": [
    "标注问题是分类问题的一个推广，又是更复杂的结构预测问题的简单形式。\n",
    "\n",
    "标注问题的输入是一个观测序列，输出一个标记序列或状态序列。\n",
    "\n",
    "常用的方法是隐马尔可夫模型和条件随机场。"
   ]
  },
  {
   "cell_type": "markdown",
   "metadata": {},
   "source": [
    "## 1.10 回归问题"
   ]
  },
  {
   "cell_type": "code",
   "execution_count": null,
   "metadata": {},
   "outputs": [],
   "source": []
  }
 ],
 "metadata": {
  "kernelspec": {
   "display_name": "Python [conda env:tensorflow]",
   "language": "python",
   "name": "conda-env-tensorflow-py"
  },
  "language_info": {
   "codemirror_mode": {
    "name": "ipython",
    "version": 3
   },
   "file_extension": ".py",
   "mimetype": "text/x-python",
   "name": "python",
   "nbconvert_exporter": "python",
   "pygments_lexer": "ipython3",
   "version": "3.7.3"
  }
 },
 "nbformat": 4,
 "nbformat_minor": 2
}
