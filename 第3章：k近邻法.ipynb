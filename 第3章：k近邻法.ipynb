{
 "cells": [
  {
   "cell_type": "markdown",
   "metadata": {},
   "source": [
    "## 3.1 k近邻算法"
   ]
  },
  {
   "cell_type": "markdown",
   "metadata": {},
   "source": [
    "给定一个数据集，对新的输入实例，在训练数据集中寻找k个与该实例最接近的实例，选取出现次数最多的那个类作为预测结果\n",
    "\n",
    "k = 1时称为最近邻算法"
   ]
  },
  {
   "cell_type": "markdown",
   "metadata": {},
   "source": [
    "## 3.2 k近邻模型"
   ]
  },
  {
   "cell_type": "markdown",
   "metadata": {},
   "source": [
    "k值的选择会对k近邻法产生巨大的影响\n",
    "\n",
    "如果选择较小的k值，学习的近似误差会减小，只有与输入实例相近的训练实例才会对预测结果起作用，但缺点是学习的估计误差会增大。如果邻近的实例恰好是噪声，预测就会出错。\n",
    "\n",
    "如果选择较大的k值，学习的估计误差会减小，但是近似误差会增大，这时与输入实例相邻较远的训练实例也会对结果的预测起作用，是预测发生错误，k值的增大意味着模型变得简单。\n",
    "\n",
    "通常会综合交叉验证法来选取最优的k值。"
   ]
  },
  {
   "cell_type": "markdown",
   "metadata": {},
   "source": [
    "## 3.3 k近邻法的实现：kd树"
   ]
  },
  {
   "cell_type": "markdown",
   "metadata": {},
   "source": [
    "实现k近邻法时，主要考虑的问题是如何对训练数据进行快速k近邻搜索。这点在特征空间维数大以及训练数据容量大时尤为重要。\n",
    "\n",
    "k近邻法最简单的实现方法是线性扫描。这时要计算输入实例与每一个训练实例的距离，在数据量较大时是不可取的\n",
    "\n",
    "为了提高k近邻搜索的效率，可以考虑采用特殊的结构存储训练数据，以减少计算距离的次数。"
   ]
  },
  {
   "cell_type": "markdown",
   "metadata": {},
   "source": [
    "构建kd树：选定坐标轴，以该分量的中位数对应的超平面将实例分为2个超矩形，该点就存储在这个结点，以此类推，得到二叉分类树。"
   ]
  },
  {
   "cell_type": "markdown",
   "metadata": {},
   "source": [
    "最近邻搜索：输入构建好的kd树和目标点x\n",
    "    （1）在kd树中找出包含目标点的叶节点。从根节点出发，至多经过m次就可以找到。\n",
    "    （2）以此叶节点为“当前最近点”。\n",
    "    （3）递归的向上回退，在每个结点进行以下操作：\n",
    "        （a）如果该结点保存的实例点比当前最近点更近，则更新之。\n",
    "        （b）当前最近点一定存在于该结点的一个子结点对应的区域，检查另一子结点是否有更近的点，若否，则继续向上回退\n",
    "    （4）当回退到根结点时，搜索结束，最后的当前最近点就是最近点   \n",
    "     "
   ]
  }
 ],
 "metadata": {
  "kernelspec": {
   "display_name": "Python 3",
   "language": "python",
   "name": "python3"
  },
  "language_info": {
   "codemirror_mode": {
    "name": "ipython",
    "version": 3
   },
   "file_extension": ".py",
   "mimetype": "text/x-python",
   "name": "python",
   "nbconvert_exporter": "python",
   "pygments_lexer": "ipython3",
   "version": "3.7.0"
  }
 },
 "nbformat": 4,
 "nbformat_minor": 2
}
