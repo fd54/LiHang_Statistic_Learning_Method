{
 "cells": [
  {
   "cell_type": "markdown",
   "metadata": {},
   "source": [
    "提升方法通过学习多个弱分类器，并将其加权组合成一个强分类器"
   ]
  },
  {
   "cell_type": "code",
   "execution_count": 1,
   "metadata": {},
   "outputs": [],
   "source": [
    "import numpy as np\n",
    "from sklearn.ensemble import AdaBoostClassifier"
   ]
  },
  {
   "cell_type": "code",
   "execution_count": 2,
   "metadata": {},
   "outputs": [
    {
     "data": {
      "text/plain": [
       "((10, 3), (10, 1))"
      ]
     },
     "execution_count": 2,
     "metadata": {},
     "output_type": "execute_result"
    }
   ],
   "source": [
    "X = np.array([[0,1,3],[0,3,1],[1,2,2],[1,1,3],[1,2,3],[0,1,2],[1,1,2],[1,1,1],[1,3,1],[0,2,1]])\n",
    "y = np.array([-1,-1,-1,-1,-1,-1,1,1,-1,-1]).reshape([-1,1])\n",
    "X.shape,y.shape"
   ]
  },
  {
   "cell_type": "code",
   "execution_count": 9,
   "metadata": {},
   "outputs": [],
   "source": [
    "def model(X,y,M):\n",
    "    '''M为提升的次数\n",
    "       X m*n m为样本数，n为特征数\n",
    "       y m*1'''\n",
    "    y_final = np.zeros(y.shape)\n",
    "    W_m = np.ones([len(X),1])/len(X)\n",
    "    for i in range(M):\n",
    "        #print(i)\n",
    "        y_pred = logis(X,y,W_m)\n",
    "        e_m = np.dot(W_m.T,y_pred!=y).item()\n",
    "        if e_m == 0:\n",
    "            return y_pred\n",
    "        if e_m >0.5:\n",
    "            y_pred = -y_pred\n",
    "            e_m = 1-e_m\n",
    "        W_m,alpha_m = propagate(X,W_m,y_pred,e_m)\n",
    "        y_final += alpha_m*y_pred\n",
    "    return (y_final>0)*2-1\n",
    "   \n",
    "def propagate(X,W_m,y_pred,e_m):\n",
    "    '''\n",
    "    输入训练集和权重,预测标签和实际标签\n",
    "    输出下一轮的权重W_mplus和这轮的预测结果级模型权重\n",
    "    '''\n",
    "    \n",
    "    alpha_m = 0.5 * np.log(1/e_m-1)\n",
    "    Z_m = np.dot(W_m.T,np.exp(-alpha_m*y*y_pred)).item()\n",
    "    W_mplus = W_m*np.exp(-alpha_m*y*y_pred)\n",
    "    return W_mplus,alpha_m\n",
    "    \n",
    "def sigmoid(z):\n",
    "    return 1/(1+np.exp(-z))\n",
    "\n",
    "def forward(X,W,b):\n",
    "    return sigmoid(X.dot(W)+b)\n",
    "    \n",
    "def back_prop(X,y,W,b,W_m):\n",
    "    m = X.shape[0]\n",
    "    z = X.dot(W)+b\n",
    "    a = sigmoid(z)\n",
    "    dW = np.dot(X.T,(a-y)*W_m)\n",
    "    db = (a-y)*W_m\n",
    "    return (dW,db)\n",
    "\n",
    "def train(X,y,W_m,lr=0.01,iters=10):\n",
    "    W = np.random.randn(X.shape[1],1)\n",
    "    b = 0\n",
    "    count = 0\n",
    "    while count < iters:\n",
    "        dW,db = back_prop(X,y,W,b,W_m)\n",
    "        W -= lr * dW\n",
    "        b -= lr * db\n",
    "        count += 1\n",
    "    return W,b\n",
    "\n",
    "def predict(X_test,W,b):\n",
    "    a = forward(X_test,W,b)\n",
    "    return np.int64(a>0.5)*2-1\n",
    "\n",
    "def logis(X,y,W_m,lr=0.1,iters=20):\n",
    "    W,b = train(X,y,W_m)\n",
    "    return predict(X,W,b)"
   ]
  },
  {
   "cell_type": "code",
   "execution_count": 14,
   "metadata": {},
   "outputs": [
    {
     "data": {
      "text/plain": [
       "array([[-1, -1, -1, -1, -1, -1,  1,  1, -1, -1]], dtype=int64)"
      ]
     },
     "execution_count": 14,
     "metadata": {},
     "output_type": "execute_result"
    }
   ],
   "source": [
    "model(X,y,200).T"
   ]
  },
  {
   "cell_type": "code",
   "execution_count": 12,
   "metadata": {},
   "outputs": [
    {
     "name": "stderr",
     "output_type": "stream",
     "text": [
      "C:\\Users\\Ni\\Anaconda3\\envs\\cs231n\\lib\\site-packages\\sklearn\\utils\\validation.py:761: DataConversionWarning: A column-vector y was passed when a 1d array was expected. Please change the shape of y to (n_samples, ), for example using ravel().\n",
      "  y = column_or_1d(y, warn=True)\n"
     ]
    },
    {
     "data": {
      "text/plain": [
       "array([-1, -1, -1, -1, -1, -1,  1,  1, -1, -1])"
      ]
     },
     "execution_count": 12,
     "metadata": {},
     "output_type": "execute_result"
    }
   ],
   "source": [
    "AB = AdaBoostClassifier()\n",
    "AB.fit(X,y)\n",
    "AB.predict(X)"
   ]
  },
  {
   "cell_type": "code",
   "execution_count": null,
   "metadata": {},
   "outputs": [],
   "source": []
  }
 ],
 "metadata": {
  "kernelspec": {
   "display_name": "Python [conda env:cs231n]",
   "language": "python",
   "name": "conda-env-cs231n-py"
  },
  "language_info": {
   "codemirror_mode": {
    "name": "ipython",
    "version": 3
   },
   "file_extension": ".py",
   "mimetype": "text/x-python",
   "name": "python",
   "nbconvert_exporter": "python",
   "pygments_lexer": "ipython3",
   "version": "3.7.3"
  }
 },
 "nbformat": 4,
 "nbformat_minor": 2
}
