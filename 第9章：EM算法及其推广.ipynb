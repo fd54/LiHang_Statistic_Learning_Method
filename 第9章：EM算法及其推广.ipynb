{
 "cells": [
  {
   "cell_type": "markdown",
   "metadata": {},
   "source": [
    "## EM算法"
   ]
  },
  {
   "cell_type": "markdown",
   "metadata": {},
   "source": [
    "EM算法是一种迭代算法，用于含隐变量的概率模型参数的极大似然估计。\n",
    "\n",
    "EM算法的每次迭代由两步构成：E步求期望；M步求极大。故EM算法又称为期望极大算法"
   ]
  },
  {
   "cell_type": "markdown",
   "metadata": {},
   "source": [
    "### 高斯混合模型"
   ]
  },
  {
   "cell_type": "markdown",
   "metadata": {},
   "source": [
    "定义：由若干个高斯分布以概率α组合而成"
   ]
  },
  {
   "cell_type": "code",
   "execution_count": 1,
   "metadata": {},
   "outputs": [],
   "source": [
    "import numpy as np"
   ]
  },
  {
   "cell_type": "code",
   "execution_count": 122,
   "metadata": {},
   "outputs": [],
   "source": [
    "def fai(y,miu,sigma_sq):\n",
    "    return np.exp(-(y-miu)**2/sigma_sq/2)/np.sqrt(2*np.pi*sigma_sq)\n",
    "    \n",
    "def EM_Gaussian(Y, K=2, iters=10):\n",
    "    '''\n",
    "    Y    观测数据 N*1\n",
    "    K    混合模型的个数\n",
    "    '''\n",
    "    N = len(Y)\n",
    "    # 初始化参数 α，σ^2，μ\n",
    "    alpha = np.random.randn(K,1)\n",
    "    alpha /= sum(alpha)\n",
    "    sigma_sq = np.random.randn(K,1)**2\n",
    "    miu = np.ones([K,1])*np.mean(Y)\n",
    "    gamma = np.zeros((N,K))\n",
    "    epsilon = 1e-6\n",
    "    \n",
    "    for i in range(iters):\n",
    "        for k in range(K):\n",
    "            gamma[:,k] = list(fai(Y,miu[k].item(),sigma_sq[k].item())*alpha[k].item())\n",
    "        gamma += epsilon\n",
    "        gamma /= np.sum(gamma, axis=1, keepdims=True)\n",
    "        # 更新参数\n",
    "        miu = np.dot(gamma.T, Y) / np.sum(gamma.T, axis=1, keepdims=True)\n",
    "        sigma_sq = np.dot(gamma.T, (Y-miu[k].item())**2) / np.sum(gamma.T, axis=1, keepdims=True)\n",
    "        alpha = np.sum(gamma.T, axis=1, keepdims=True) / N\n",
    "    \n",
    "    return alpha,miu,np.sqrt(sigma_sq)\n",
    "        "
   ]
  },
  {
   "cell_type": "code",
   "execution_count": 139,
   "metadata": {},
   "outputs": [],
   "source": [
    "Y = np.array([-67,-48,6,8,14,16,23,24,28,29,41,49,56,60,75]).reshape([-1,1])"
   ]
  },
  {
   "cell_type": "code",
   "execution_count": 143,
   "metadata": {},
   "outputs": [
    {
     "data": {
      "text/plain": [
       "(array([[0.2165669],\n",
       "        [0.7834331]]), array([[-21.65317059],\n",
       "        [ 32.70565565]]), array([[72.79801251],\n",
       "        [20.22748521]]))"
      ]
     },
     "execution_count": 143,
     "metadata": {},
     "output_type": "execute_result"
    }
   ],
   "source": [
    "EM_Gaussian(Y)"
   ]
  },
  {
   "cell_type": "code",
   "execution_count": 144,
   "metadata": {},
   "outputs": [
    {
     "data": {
      "text/plain": [
       "(array([0.86682762, 0.13317238]), array([[ 32.98489643],\n",
       "        [-57.51107027]]), array([[[429.45764867]],\n",
       " \n",
       "        [[ 90.24987882]]]))"
      ]
     },
     "execution_count": 144,
     "metadata": {},
     "output_type": "execute_result"
    }
   ],
   "source": [
    "# 调用库函数\n",
    "from sklearn.mixture import GaussianMixture\n",
    "gmm = GaussianMixture(n_components=2).fit(Y)\n",
    "gmm.weights_,gmm.means_,gmm.covariances_"
   ]
  },
  {
   "cell_type": "code",
   "execution_count": null,
   "metadata": {},
   "outputs": [],
   "source": []
  }
 ],
 "metadata": {
  "kernelspec": {
   "display_name": "Python [conda env:cs231n]",
   "language": "python",
   "name": "conda-env-cs231n-py"
  },
  "language_info": {
   "codemirror_mode": {
    "name": "ipython",
    "version": 3
   },
   "file_extension": ".py",
   "mimetype": "text/x-python",
   "name": "python",
   "nbconvert_exporter": "python",
   "pygments_lexer": "ipython3",
   "version": "3.7.3"
  }
 },
 "nbformat": 4,
 "nbformat_minor": 2
}
