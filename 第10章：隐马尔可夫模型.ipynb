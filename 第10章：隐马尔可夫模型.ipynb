{
 "cells": [
  {
   "cell_type": "markdown",
   "metadata": {},
   "source": [
    "## HMM模型\n"
   ]
  },
  {
   "cell_type": "markdown",
   "metadata": {},
   "source": [
    "隐马尔可夫模型是关于时序的概率模型，描述由一个隐藏的马尔可夫链随机生成不可观测的状态随机序列，再由各个状态生成一个观测随机序列的过程。\n",
    "\n",
    "隐藏的马尔可夫链链随机生成的状态序列，称为状态序列；每个状态生成一个观测，而由此产生的观测随机序列，称为观测序列。\n",
    "\n",
    "模型的参数包括状态转移矩阵A，观测概率矩阵B和初始状态概率向量Π。"
   ]
  },
  {
   "cell_type": "markdown",
   "metadata": {},
   "source": [
    "从定义可知，HMM作了两个基本假设\n",
    "+ 齐次马尔可夫性假设，即每时刻的状态只与前一时刻有关\n",
    "+ 观测独立性假设，即任意时刻的观测只依赖于该时刻的状态"
   ]
  },
  {
   "cell_type": "code",
   "execution_count": 1,
   "metadata": {},
   "outputs": [],
   "source": [
    "import numpy as np"
   ]
  },
  {
   "cell_type": "code",
   "execution_count": 14,
   "metadata": {},
   "outputs": [],
   "source": [
    "A = np.array(([0.5,0.2,0.3],[0.3,0.5,0.2],[0.2,0.3,0.5]))\n",
    "B = np.array(([0.5,0.5],[0.4,0.6],[0.7,0.3]))\n",
    "pi = np.array([0.2,0.4,0.4])"
   ]
  },
  {
   "cell_type": "markdown",
   "metadata": {},
   "source": [
    "### 前向算法"
   ]
  },
  {
   "cell_type": "code",
   "execution_count": 35,
   "metadata": {},
   "outputs": [],
   "source": [
    "# 前向传播算法\n",
    "def forward(A,B,pi,O):\n",
    "    '''\n",
    "    A,B,pi是HMM的参数\n",
    "    O是观测序列\n",
    "    '''\n",
    "    T = len(O)\n",
    "    N, M = B.shape # N,M分别是状态数和观测结果数\n",
    "    alpha = np.zeros((N,T)) # 用于记录前向概率\n",
    "    a = B[:,O[0]]*pi\n",
    "    alpha[:,0] = a\n",
    "    for i in range(1,T):\n",
    "        a = np.dot(a.reshape([1,-1]),A)*B[:,O[i]]\n",
    "        alpha[:,i] = a\n",
    "    print(alpha)\n",
    "    return np.sum(a)"
   ]
  },
  {
   "cell_type": "code",
   "execution_count": 36,
   "metadata": {},
   "outputs": [
    {
     "name": "stdout",
     "output_type": "stream",
     "text": [
      "[[0.1        0.077      0.04187    0.0210779 ]\n",
      " [0.16       0.1104     0.035512   0.02518848]\n",
      " [0.28       0.0606     0.052836   0.01382442]]\n"
     ]
    },
    {
     "data": {
      "text/plain": [
       "0.06009079999999999"
      ]
     },
     "execution_count": 36,
     "metadata": {},
     "output_type": "execute_result"
    }
   ],
   "source": [
    "O = [0,1,0,1]\n",
    "forward(A,B,pi,O)"
   ]
  },
  {
   "cell_type": "markdown",
   "metadata": {},
   "source": [
    "### 后向算法"
   ]
  },
  {
   "cell_type": "code",
   "execution_count": 59,
   "metadata": {},
   "outputs": [],
   "source": [
    "def backward(A,B,pi,O):\n",
    "    '''\n",
    "    A,B,pi是HMM的参数\n",
    "    O是观测序列\n",
    "    '''\n",
    "    T = len(O)\n",
    "    N, M = B.shape # N,M分别是状态数和观测结果数\n",
    "    beta = np.zeros((N,T))\n",
    "    b = np.ones(N)\n",
    "    beta[:,-1] = b\n",
    "    for i in range(T-2,-1,-1):\n",
    "        b = np.dot(A,b*B[:,O[i+1]])\n",
    "        beta[:,i] = b\n",
    "    print(beta)\n",
    "    return np.dot(pi,b*B[:,O[0]])"
   ]
  },
  {
   "cell_type": "code",
   "execution_count": 60,
   "metadata": {},
   "outputs": [
    {
     "name": "stdout",
     "output_type": "stream",
     "text": [
      "[[0.112462 0.2461   0.46     1.      ]\n",
      " [0.121737 0.2312   0.51     1.      ]\n",
      " [0.104881 0.2577   0.43     1.      ]]\n"
     ]
    },
    {
     "data": {
      "text/plain": [
       "0.06009079999999999"
      ]
     },
     "execution_count": 60,
     "metadata": {},
     "output_type": "execute_result"
    }
   ],
   "source": [
    "backward(A,B,pi,O)"
   ]
  },
  {
   "cell_type": "markdown",
   "metadata": {},
   "source": [
    "### 维特比算法"
   ]
  },
  {
   "cell_type": "code",
   "execution_count": 73,
   "metadata": {},
   "outputs": [],
   "source": [
    "def vit(A,B,pi,O):\n",
    "    '''\n",
    "    A,B,pi是HMM的参数\n",
    "    O是观测序列\n",
    "    '''\n",
    "    T = len(O)\n",
    "    N, M = B.shape # N,M分别是状态数和观测结果数\n",
    "    V = np.zeros((N,T))\n",
    "    v = B[:,O[0]]*pi\n",
    "    for i in range(1,T):\n",
    "        print(np.argmax(v.reshape([-1,1])*A,axis=0))\n",
    "        v = np.max(v.reshape([-1,1])*A,axis=0)*B[:,O[i]]\n",
    "        V[:,i] = v\n",
    "    return V\n",
    "    "
   ]
  },
  {
   "cell_type": "code",
   "execution_count": 74,
   "metadata": {},
   "outputs": [
    {
     "name": "stdout",
     "output_type": "stream",
     "text": [
      "[2 2 2]\n",
      "[1 1 2]\n",
      "[0 1 2]\n"
     ]
    },
    {
     "data": {
      "text/plain": [
       "array([[0.      , 0.028   , 0.00756 , 0.00189 ],\n",
       "       [0.      , 0.0504  , 0.01008 , 0.003024],\n",
       "       [0.      , 0.042   , 0.0147  , 0.002205]])"
      ]
     },
     "execution_count": 74,
     "metadata": {},
     "output_type": "execute_result"
    }
   ],
   "source": [
    "vit(A,B,pi,O)"
   ]
  }
 ],
 "metadata": {
  "kernelspec": {
   "display_name": "'Python Interactive'",
   "language": "python",
   "name": "0af4f9b8-4f28-475d-b589-5e110ebdbf6b"
  },
  "language_info": {
   "codemirror_mode": {
    "name": "ipython",
    "version": 3
   },
   "file_extension": ".py",
   "mimetype": "text/x-python",
   "name": "python",
   "nbconvert_exporter": "python",
   "pygments_lexer": "ipython3",
   "version": "3.7.1"
  }
 },
 "nbformat": 4,
 "nbformat_minor": 2
}
