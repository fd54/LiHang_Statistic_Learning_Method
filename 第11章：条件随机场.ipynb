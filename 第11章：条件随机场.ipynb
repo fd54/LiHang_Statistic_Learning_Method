{
 "cells": [
  {
   "cell_type": "markdown",
   "metadata": {},
   "source": [
    "### 概率无向图模型"
   ]
  },
  {
   "cell_type": "markdown",
   "metadata": {},
   "source": [
    "由结点和连接结点的边组成，分别记作v和e，结点和边的集合记作V和E，图记作G=(V,E)，无向图是指边没有方向的图。\n",
    "\n",
    "结点表示随机变量，边表示随机变量之间的依赖关系。\n",
    "\n",
    "成对马尔可夫性、局部马尔可夫性和全局马尔可夫性三者等价\n",
    "\n",
    "联合概率分布满足上述马尔可夫性之一的无向图模型称为概率无向图模型。"
   ]
  },
  {
   "cell_type": "markdown",
   "metadata": {},
   "source": [
    "概率无向图模型的因子分解\n",
    "\n",
    "团与最大团\n",
    "\n",
    "可将联合概率分布表示为最大团上的随机变量的函数的乘积的操作称为因子分解"
   ]
  },
  {
   "cell_type": "markdown",
   "metadata": {},
   "source": [
    "### 条件随机场"
   ]
  },
  {
   "cell_type": "markdown",
   "metadata": {},
   "source": [
    "条件随机场是给定随机变量X的条件下，随机变量Y的马尔可夫场。\n",
    "\n",
    "定义在线性链上的条件随机场称为线性链条件随机场。\n",
    "\n",
    "条件随机场的参数形式\n",
    "\n",
    "条件随机场的矩阵形式\n",
    "\n",
    "概率计算问题                                                                                                                                                                                                                                                                                                                                                            "
   ]
  },
  {
   "cell_type": "markdown",
   "metadata": {},
   "source": []
  },
  {
   "cell_type": "markdown",
   "metadata": {},
   "source": []
  },
  {
   "cell_type": "code",
   "execution_count": 1,
   "metadata": {},
   "outputs": [],
   "source": [
    "import numpy as np"
   ]
  },
  {
   "cell_type": "code",
   "execution_count": 3,
   "metadata": {},
   "outputs": [],
   "source": [
    "M1 = np.array([0,0,0.5,0.5]).reshape([2,2])\n",
    "M2 = np.array([0.3,0.7,0.7,0.3]).reshape([2,2])\n",
    "M3 = np.array([0.5,0.5,0.6,0.4]).reshape([2,2])\n",
    "M4 = np.array([0,1,0,1]).reshape([2,2])"
   ]
  },
  {
   "cell_type": "code",
   "execution_count": 13,
   "metadata": {},
   "outputs": [
    {
     "name": "stdout",
     "output_type": "stream",
     "text": [
      "(1, 1, 1) 概率为 0.075 \n",
      "          规范化 0.075\n",
      "(1, 1, 2) 概率为 0.075 \n",
      "          规范化 0.075\n",
      "(1, 2, 1) 概率为 0.21 \n",
      "          规范化 0.21\n",
      "(1, 2, 2) 概率为 0.13999999999999999 \n",
      "          规范化 0.13999999999999999\n",
      "(2, 1, 1) 概率为 0.175 \n",
      "          规范化 0.175\n",
      "(2, 1, 2) 概率为 0.175 \n",
      "          规范化 0.175\n",
      "(2, 2, 1) 概率为 0.09 \n",
      "          规范化 0.09\n",
      "(2, 2, 2) 概率为 0.06 \n",
      "          规范化 0.06\n"
     ]
    }
   ],
   "source": [
    "start = 2\n",
    "stop = 2\n",
    "Z = M1 @ M2 @ M3 @ M4 \n",
    "for i in range(2):\n",
    "    for j in range(2):\n",
    "        for k in range(2):\n",
    "            p = M1[start-1,i] * M2[i,j] * M3[j,k] * M4[k,stop-1]\n",
    "            p_r = p / Z[start-1,stop-1]\n",
    "            print((i+1,j+1,k+1),'概率为',p,'\\n          规范化',p_r)"
   ]
  },
  {
   "cell_type": "code",
   "execution_count": 6,
   "metadata": {},
   "outputs": [
    {
     "data": {
      "text/plain": [
       "array([[0., 0.],\n",
       "       [0., 1.]])"
      ]
     },
     "execution_count": 6,
     "metadata": {},
     "output_type": "execute_result"
    }
   ],
   "source": [
    "Z"
   ]
  },
  {
   "cell_type": "code",
   "execution_count": null,
   "metadata": {},
   "outputs": [],
   "source": []
  }
 ],
 "metadata": {
  "kernelspec": {
   "display_name": "'Python Interactive'",
   "language": "python",
   "name": "0af4f9b8-4f28-475d-b589-5e110ebdbf6b"
  },
  "language_info": {
   "codemirror_mode": {
    "name": "ipython",
    "version": 3
   },
   "file_extension": ".py",
   "mimetype": "text/x-python",
   "name": "python",
   "nbconvert_exporter": "python",
   "pygments_lexer": "ipython3",
   "version": "3.7.1"
  }
 },
 "nbformat": 4,
 "nbformat_minor": 2
}
