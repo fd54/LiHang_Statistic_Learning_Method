{
 "cells": [
  {
   "cell_type": "markdown",
   "metadata": {},
   "source": [
    "基于贝叶斯定理和特征条件独立假设的分类方法\n",
    "\n",
    "基于此模型，对给定的输入x，利用贝叶斯定理我iuv胡后验概率最大的输出y"
   ]
  },
  {
   "cell_type": "markdown",
   "metadata": {},
   "source": [
    "## 4.1 朴素贝叶斯法的学习与分类"
   ]
  },
  {
   "cell_type": "markdown",
   "metadata": {},
   "source": [
    "X，Y分别是输入空间和输出空间。\n",
    "\n",
    "朴素贝叶斯法通过训练数据集学习联合概率分布P（X，Y）。具体的，学习以下先验概率分布以及条件概率分布。\n",
    "\n",
    "先验概率 P（Y=k)  条件概率P（X=x|Y=k)\n",
    "\n",
    "于是学习得到联合概率分布\n",
    "\n",
    "\n"
   ]
  },
  {
   "cell_type": "markdown",
   "metadata": {},
   "source": [
    "## 4.2 朴素贝叶斯法的参数估计"
   ]
  },
  {
   "cell_type": "markdown",
   "metadata": {},
   "source": [
    "极大似然估计\n",
    "\n",
    "P（Y=k）的估计是第k类出现的频率\n",
    "\n",
    "P（X=x|Y=k)的估计同理\n",
    "\n",
    "为避免出现概率为0的情况，我们做Laplace平滑，即给每个类或者特征加上一个小的数λ\n",
    "\n",
    "朴素贝叶斯法是一种生成学习方法"
   ]
  },
  {
   "cell_type": "code",
   "execution_count": null,
   "metadata": {},
   "outputs": [],
   "source": []
  }
 ],
 "metadata": {
  "kernelspec": {
   "display_name": "Python 3",
   "language": "python",
   "name": "python3"
  },
  "language_info": {
   "codemirror_mode": {
    "name": "ipython",
    "version": 3
   },
   "file_extension": ".py",
   "mimetype": "text/x-python",
   "name": "python",
   "nbconvert_exporter": "python",
   "pygments_lexer": "ipython3",
   "version": "3.7.0"
  }
 },
 "nbformat": 4,
 "nbformat_minor": 2
}
