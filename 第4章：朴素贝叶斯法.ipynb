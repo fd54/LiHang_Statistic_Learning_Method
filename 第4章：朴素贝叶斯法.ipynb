{
 "cells": [
  {
   "cell_type": "markdown",
   "metadata": {},
   "source": [
    "基于贝叶斯定理和特征条件独立假设的分类方法\n",
    "\n",
    "基于此模型，对给定的输入x，利用贝叶斯定理我iuv胡后验概率最大的输出y"
   ]
  },
  {
   "cell_type": "markdown",
   "metadata": {},
   "source": [
    "## 4.1 朴素贝叶斯法的学习与分类"
   ]
  },
  {
   "cell_type": "markdown",
   "metadata": {},
   "source": [
    "X，Y分别是输入空间和输出空间。\n",
    "\n",
    "朴素贝叶斯法通过训练数据集学习联合概率分布P（X，Y）。具体的，学习以下先验概率分布以及条件概率分布。\n",
    "\n",
    "先验概率 P（Y=k)  条件概率P（X=x|Y=k)\n",
    "\n",
    "于是学习得到联合概率分布\n",
    "\n",
    "\n"
   ]
  },
  {
   "cell_type": "markdown",
   "metadata": {},
   "source": [
    "## 4.2 朴素贝叶斯法的参数估计"
   ]
  },
  {
   "cell_type": "markdown",
   "metadata": {},
   "source": [
    "极大似然估计\n",
    "\n",
    "P（Y=k）的估计是第k类出现的频率\n",
    "\n",
    "P（X=x|Y=k)的估计同理\n",
    "\n",
    "为避免出现概率为0的情况，我们做Laplace平滑，即给每个类或者特征加上一个小的数λ\n",
    "\n",
    "朴素贝叶斯法是一种生成学习方法"
   ]
  },
  {
   "cell_type": "code",
   "execution_count": 1,
   "metadata": {},
   "outputs": [],
   "source": [
    "import numpy as np\n",
    "from sklearn.naive_bayes import GaussianNB,BernoulliNB,MultinomialNB"
   ]
  },
  {
   "cell_type": "code",
   "execution_count": 2,
   "metadata": {},
   "outputs": [],
   "source": [
    "# S,M,L分别对应于1，2，3，这在朴素贝叶斯中并没有区别\n",
    "X = np.array([[1,1],[1,2],[1,2],[1,1],[1,1],[2,1],[2,2],[2,2],[2,3],[2,3],[3,3],[3,2],[3,2],[3,3],[3,3]])\n",
    "y = np.array([-1,-1,1,1,-1,-1,-1,1,1,1,1,1,1,1,-1])"
   ]
  },
  {
   "cell_type": "code",
   "execution_count": 27,
   "metadata": {},
   "outputs": [
    {
     "data": {
      "text/plain": [
       "-1"
      ]
     },
     "execution_count": 27,
     "metadata": {},
     "output_type": "execute_result"
    }
   ],
   "source": [
    "def NB(X,y,s):\n",
    "    '''\n",
    "    X 训练数据集\n",
    "    y 训练标签集\n",
    "    s 待预测点\n",
    "    '''\n",
    "    n = X.shape[1]\n",
    "    \n",
    "    Y = np.unique(y)\n",
    "    m = Y.shape[0]\n",
    "    \n",
    "    # 统计特征的频率，存放在array中\n",
    "    res = np.zeros((n,m))\n",
    "    for i in range(n):\n",
    "        for j in range(m):\n",
    "            res[i,j] = np.count_nonzero(X[y==Y[j],i]==s[i])\n",
    "    \n",
    "    classes = np.zeros((1,m))\n",
    "    # 统计每一类的频数\n",
    "    for j in range(m):\n",
    "        classes[0,j] = np.count_nonzero(y==Y[j])\n",
    "    \n",
    "    # 计算属于每个类的相对概率\n",
    "    prob = np.exp(np.sum(np.log(res/classes),axis=0,keepdims=True))*classes\n",
    "    \n",
    "    return Y[np.argmax(prob)]\n",
    "\n",
    "NB(X,y,[2,1])"
   ]
  },
  {
   "cell_type": "code",
   "execution_count": 31,
   "metadata": {},
   "outputs": [
    {
     "name": "stdout",
     "output_type": "stream",
     "text": [
      "[-1]\n",
      "[1]\n",
      "[1]\n"
     ]
    }
   ],
   "source": [
    "s = np.array([[2,1]])\n",
    "G = GaussianNB()\n",
    "G.fit(X,y)\n",
    "print(G.predict(s))\n",
    "B = BernoulliNB()\n",
    "B.fit(X,y)\n",
    "print(B.predict(s))\n",
    "M = MultinomialNB()\n",
    "M.fit(X,y)\n",
    "print(M.predict(s))"
   ]
  },
  {
   "cell_type": "code",
   "execution_count": null,
   "metadata": {},
   "outputs": [],
   "source": []
  }
 ],
 "metadata": {
  "kernelspec": {
   "display_name": "Python [conda env:cs231n]",
   "language": "python",
   "name": "conda-env-cs231n-py"
  },
  "language_info": {
   "codemirror_mode": {
    "name": "ipython",
    "version": 3
   },
   "file_extension": ".py",
   "mimetype": "text/x-python",
   "name": "python",
   "nbconvert_exporter": "python",
   "pygments_lexer": "ipython3",
   "version": "3.7.3"
  }
 },
 "nbformat": 4,
 "nbformat_minor": 2
}
