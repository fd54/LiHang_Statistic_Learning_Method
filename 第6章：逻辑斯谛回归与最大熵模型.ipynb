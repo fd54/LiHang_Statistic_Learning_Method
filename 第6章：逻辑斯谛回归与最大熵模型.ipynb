{
 "cells": [
  {
   "cell_type": "markdown",
   "metadata": {},
   "source": [
    "## 6.1 逻辑斯谛回归模型"
   ]
  },
  {
   "cell_type": "markdown",
   "metadata": {},
   "source": [
    "逻辑斯谛分布：分布函数为sigmoid函数，形状参数为γ\n",
    "\n",
    "二分类问题的损失函数为交叉熵\n",
    "\n",
    "多分类问题可以看作是二分类问题的推广"
   ]
  },
  {
   "cell_type": "markdown",
   "metadata": {},
   "source": [
    "## 6.2 最大熵模型"
   ]
  },
  {
   "cell_type": "markdown",
   "metadata": {},
   "source": [
    "最大熵原理：学习概率模型时，在所有可能的概率模型分布中，熵最大的模型时最好的模型。"
   ]
  },
  {
   "cell_type": "markdown",
   "metadata": {},
   "source": [
    "## 6.3 模型学习的最优化算法"
   ]
  },
  {
   "cell_type": "markdown",
   "metadata": {},
   "source": [
    "迭代尺度法\n",
    "\n",
    "拟牛顿法"
   ]
  },
  {
   "cell_type": "code",
   "execution_count": 1,
   "metadata": {},
   "outputs": [],
   "source": [
    "import numpy as np\n",
    "from sklearn.linear_model import LogisticRegression as LR"
   ]
  },
  {
   "cell_type": "code",
   "execution_count": 2,
   "metadata": {},
   "outputs": [],
   "source": [
    "X = np.array([[3,3,3],[4,3,2],[2,1,2],[1,1,1],[-1,0,1],[2,-2,1]])\n",
    "y = np.array([1,1,1,0,0,0]).reshape([-1,1])"
   ]
  },
  {
   "cell_type": "code",
   "execution_count": 3,
   "metadata": {},
   "outputs": [],
   "source": [
    "def sigmoid(z):\n",
    "    return 1/(1+np.exp(-z))\n",
    "\n",
    "def forward(X,W,b):\n",
    "    return sigmoid(X.dot(W)+b)\n",
    "\n",
    "def cost(X,y,W,b):\n",
    "    a = forward(X,W,b)\n",
    "    return -np.mean(y*np.log(a)+(1-y)*np.log(1-a)) \n",
    "    \n",
    "def back_prop(X,y,W,b):\n",
    "    m = X.shape[0]\n",
    "    z = X.dot(W)+b\n",
    "    a = sigmoid(z)\n",
    "    dW = np.dot(X.T,a-y)/m\n",
    "    db = np.mean(a-y)\n",
    "    return (dW,db)\n",
    "\n",
    "def train(X,y,lr=0.01,iters=10):\n",
    "    W = np.random.randn(X.shape[1],1)\n",
    "    b = 0\n",
    "    #a = forward(X,W,b)\n",
    "    count = 0\n",
    "    while count < iters:\n",
    "        dW,db = back_prop(X,y,W,b)\n",
    "        W -= lr * dW\n",
    "        b -= lr * db\n",
    "        #print(cost(X,y,W,b))\n",
    "        count += 1\n",
    "    return W,b\n",
    "\n",
    "def predict(X_test,W,b):\n",
    "    a = forward(X_test,W,b)\n",
    "    return np.int64(a>0.5)"
   ]
  },
  {
   "cell_type": "code",
   "execution_count": 8,
   "metadata": {},
   "outputs": [
    {
     "data": {
      "text/plain": [
       "0.39818562646714306"
      ]
     },
     "execution_count": 8,
     "metadata": {},
     "output_type": "execute_result"
    }
   ],
   "source": [
    "W,b = train(X,y,iters=100)\n",
    "cost(X,y,W,b)"
   ]
  },
  {
   "cell_type": "code",
   "execution_count": 9,
   "metadata": {},
   "outputs": [
    {
     "data": {
      "text/plain": [
       "array([[1],\n",
       "       [1],\n",
       "       [1],\n",
       "       [1],\n",
       "       [0],\n",
       "       [1]], dtype=int64)"
      ]
     },
     "execution_count": 9,
     "metadata": {},
     "output_type": "execute_result"
    }
   ],
   "source": [
    "predict(X,W,b)"
   ]
  },
  {
   "cell_type": "code",
   "execution_count": 10,
   "metadata": {},
   "outputs": [
    {
     "data": {
      "text/plain": [
       "1"
      ]
     },
     "execution_count": 10,
     "metadata": {},
     "output_type": "execute_result"
    }
   ],
   "source": [
    "X_test = np.array([1,2,-2]).reshape([1,-1])\n",
    "predict(X_test,W,b).item()"
   ]
  },
  {
   "cell_type": "code",
   "execution_count": 11,
   "metadata": {},
   "outputs": [
    {
     "name": "stderr",
     "output_type": "stream",
     "text": [
      "C:\\Users\\Ni\\Anaconda3\\envs\\cs231n\\lib\\site-packages\\sklearn\\linear_model\\logistic.py:433: FutureWarning: Default solver will be changed to 'lbfgs' in 0.22. Specify a solver to silence this warning.\n",
      "  FutureWarning)\n"
     ]
    },
    {
     "data": {
      "text/plain": [
       "array([1])"
      ]
     },
     "execution_count": 11,
     "metadata": {},
     "output_type": "execute_result"
    }
   ],
   "source": [
    "model = LR()\n",
    "model.fit(X,y.ravel())\n",
    "model.predict(X_test)"
   ]
  },
  {
   "cell_type": "markdown",
   "metadata": {},
   "source": []
  },
  {
   "cell_type": "markdown",
   "metadata": {},
   "source": []
  },
  {
   "cell_type": "markdown",
   "metadata": {},
   "source": []
  },
  {
   "cell_type": "markdown",
   "metadata": {},
   "source": []
  },
  {
   "cell_type": "markdown",
   "metadata": {},
   "source": []
  },
  {
   "cell_type": "markdown",
   "metadata": {},
   "source": []
  },
  {
   "cell_type": "markdown",
   "metadata": {},
   "source": []
  }
 ],
 "metadata": {
  "kernelspec": {
   "display_name": "Python [conda env:cs231n]",
   "language": "python",
   "name": "conda-env-cs231n-py"
  },
  "language_info": {
   "codemirror_mode": {
    "name": "ipython",
    "version": 3
   },
   "file_extension": ".py",
   "mimetype": "text/x-python",
   "name": "python",
   "nbconvert_exporter": "python",
   "pygments_lexer": "ipython3",
   "version": "3.7.3"
  }
 },
 "nbformat": 4,
 "nbformat_minor": 2
}
